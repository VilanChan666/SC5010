{
 "cells": [
  {
   "cell_type": "markdown",
   "id": "b5a77de3",
   "metadata": {},
   "source": [
    "# Summary for all Machine Learning Models"
   ]
  },
  {
   "cell_type": "markdown",
   "id": "846cc2ba",
   "metadata": {},
   "source": [
    "In this project, we implemented 3 tree-based machine learning model, namely :\n",
    "   1. Multi Variate Decision Tree\n",
    "   2. Random Forest Classifier\n",
    "   3. Extreme Gradient Boosting (XGBoost)\n",
    "    \n",
    "The results for all machine learning models are summarized as below:"
   ]
  },
  {
   "cell_type": "markdown",
   "id": "b0d1f3e5",
   "metadata": {},
   "source": [
    "After comparing the models with different tuning, we find that the threshold tuning from ROC gives the best results.\n",
    "\n",
    "The table below summarizes all the metrics after tuning with ROC:"
   ]
  },
  {
   "cell_type": "markdown",
   "id": "319f5e26",
   "metadata": {},
   "source": [
    "| Classification Model | Balanced Accuracy  | PR AUC | ROC AUC | Recall | Precision |\n",
    "| --- | --- | --- | --- | --- |--- |\n",
    "| **Multi Variate Decision Tree** | **0.7350** | **0.4** | **0.7711** | **0.7910** |**0.3046** |\n",
    "| **Random Forest Classifier** | **0.7666** | **0.5** | **0.8265**| **0.8806** |**0.3105** |\n",
    "| **XGB Classifier** | **0.7622** | **0.5** | **0.8341**| **0.7313** | **0.3858**|"
   ]
  },
  {
   "cell_type": "markdown",
   "id": "a0464fce",
   "metadata": {},
   "source": [
    "We also summarize all the feature of importances in all machine learning models in the table below."
   ]
  },
  {
   "cell_type": "markdown",
   "id": "7dbb32fa",
   "metadata": {},
   "source": [
    "| Classification Model | Feature of Importances |\n",
    "| --- | --- |   \n",
    "| **XGB Classifier** | `Recency `,`NumStorePurchases`,`MntMeatProducts`,`ChildrenHome` |\n",
    "| **Decision Tree** | `ChildrenHome `,`Year_Customer`,`Recency`,`Income` |\n",
    "| **Random Forest Classifier** | `Recency` , `ChildrenHome`, `Marital_Status`, `MntMeatProducts` |"
   ]
  },
  {
   "cell_type": "markdown",
   "id": "fed8b28d",
   "metadata": {},
   "source": [
    "From the table above, we see that by comparing the ROC AUC and Recall(True positive rate) score, Random Forest classifier is the best among the three. With Random Forest classifier, we can predict whether the customer's response with an accuracy up to 76.66%.\n",
    "\n",
    "Since Random Forest  having the best performance among the three, the top 4 feature of importances in this model will be reliable for us to predict the customer response.\n",
    "\n",
    "The features of importances are : `Recency `,`Children Home`,`Marital_Status`,`MntMeatProducts`."
   ]
  },
  {
   "cell_type": "markdown",
   "id": "a7237340",
   "metadata": {},
   "source": [
    "# Conclusion"
   ]
  },
  {
   "cell_type": "markdown",
   "id": "5def08a9",
   "metadata": {},
   "source": [
    "In conclusion, we are able to create a robust model to predict the customer's responses. With its features of importance in mind, we could suggest more marketing effort on these features. A future marketing campaign should target customers with the attributes of high importance as they are highly classified as potential customers.\n",
    "\n",
    "Future marketing could include some initiatives such as:\n",
    "1. Targeting customer's with children at home (dependants)\n",
    "2. Promotions or Marketing Campaign on Meat Products\n",
    "3. Targeting customers with less recency \n",
    "\n",
    "\n",
    "However, it would be worth noting that one should have to do further research. To optimise the dataset provided entirely, one would have to know how well the given dataset is built and have profound domain knowledge in marketing analysis.\n",
    "\n",
    "In this project, we only implement tree-based models as our prediction models. We can include more models in the future (Logistics) to have a better comparison among models to find the best model."
   ]
  },
  {
   "cell_type": "code",
   "execution_count": null,
   "id": "894cd9ab",
   "metadata": {},
   "outputs": [],
   "source": []
  }
 ],
 "metadata": {
  "kernelspec": {
   "display_name": "Python 3",
   "language": "python",
   "name": "python3"
  },
  "language_info": {
   "codemirror_mode": {
    "name": "ipython",
    "version": 3
   },
   "file_extension": ".py",
   "mimetype": "text/x-python",
   "name": "python",
   "nbconvert_exporter": "python",
   "pygments_lexer": "ipython3",
   "version": "3.8.8"
  }
 },
 "nbformat": 4,
 "nbformat_minor": 5
}
